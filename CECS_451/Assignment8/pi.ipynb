import math
import random
import matplotlib.pyplot as plt

def pi_error(interations):
    inside = []
    outside = []
    total = []
    x_pos = []
    y_pos = []
    inside_cords = []
    outside_cords = []
    counter = 0
    for i in range(10**interations):
        counter+=1
        x = random.random()
        y = random.random()
        distance = x**2 + y**2

        if distance < 1:
            inside.append(distance)
            inside_cords.append((x,y))
        else:
            outside.append(distance)
            outside_cords.append((x,y))

    inside_len = len(inside)
    outside_len = len(outside)
    pi = 4 * (inside_len/(inside_len + outside_len))

    error = abs((math.pi - pi)/math.pi) * 100   
    print("n = 10 ^ ", interations , " pi = ", "{:0.6f}".format(pi), " error = ", "{:0.6f}".format(error)," %")
    total.append(inside_cords)
    total.append(outside_cords)
    return total

pi_error(3)
x = pi_error(4)
pi_error(5)
pi_error(6)

inside = x[0]
outside = x[1]
blue = zip(*inside)
red = zip(*outside)
plt.scatter(*blue, 1, marker='o', color='b')
plt.scatter(*red, 1, marker='o', color='r')
plt.show()





